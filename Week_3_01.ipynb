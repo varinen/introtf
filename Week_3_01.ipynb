{
  "nbformat": 4,
  "nbformat_minor": 0,
  "metadata": {
    "colab": {
      "name": "Week 3 01",
      "version": "0.3.2",
      "provenance": [],
      "include_colab_link": true
    },
    "kernelspec": {
      "name": "python3",
      "display_name": "Python 3"
    }
  },
  "cells": [
    {
      "cell_type": "markdown",
      "metadata": {
        "id": "view-in-github",
        "colab_type": "text"
      },
      "source": [
        "<a href=\"https://colab.research.google.com/github/varinen/introtf/blob/master/Week_3_01.ipynb\" target=\"_parent\"><img src=\"https://colab.research.google.com/assets/colab-badge.svg\" alt=\"Open In Colab\"/></a>"
      ]
    },
    {
      "metadata": {
        "id": "cYcxiRqbGfUo",
        "colab_type": "text"
      },
      "cell_type": "markdown",
      "source": [
        "# Improving Computer Vision Accuracy With Convolutions\n",
        "\n",
        "Previously, we've built a deep neural network (DNN) with three layers: input, hidden, and output. This is how the code looked like:"
      ]
    },
    {
      "metadata": {
        "id": "EpYVQxvc-A7a",
        "colab_type": "code",
        "colab": {}
      },
      "cell_type": "code",
      "source": [
        "import tensorflow as tf"
      ],
      "execution_count": 0,
      "outputs": []
    },
    {
      "metadata": {
        "id": "cOPb8adh-jCJ",
        "colab_type": "code",
        "colab": {
          "base_uri": "https://localhost:8080/",
          "height": 173
        },
        "outputId": "42557a5e-4378-4cde-c655-62f7e36e1efb"
      },
      "cell_type": "code",
      "source": [
        "mnist = tf.keras.datasets.fashion_mnist\n",
        "(training_images, training_labels), (test_images, test_labels) \\\n",
        "= mnist.load_data()"
      ],
      "execution_count": 3,
      "outputs": [
        {
          "output_type": "stream",
          "text": [
            "Downloading data from https://storage.googleapis.com/tensorflow/tf-keras-datasets/train-labels-idx1-ubyte.gz\n",
            "32768/29515 [=================================] - 0s 0us/step\n",
            "Downloading data from https://storage.googleapis.com/tensorflow/tf-keras-datasets/train-images-idx3-ubyte.gz\n",
            "26427392/26421880 [==============================] - 0s 0us/step\n",
            "Downloading data from https://storage.googleapis.com/tensorflow/tf-keras-datasets/t10k-labels-idx1-ubyte.gz\n",
            "8192/5148 [===============================================] - 0s 0us/step\n",
            "Downloading data from https://storage.googleapis.com/tensorflow/tf-keras-datasets/t10k-images-idx3-ubyte.gz\n",
            "4423680/4422102 [==============================] - 0s 0us/step\n"
          ],
          "name": "stdout"
        }
      ]
    },
    {
      "metadata": {
        "id": "THxQAYl2-x5f",
        "colab_type": "code",
        "colab": {
          "base_uri": "https://localhost:8080/",
          "height": 204
        },
        "outputId": "67674a07-4208-4c35-981a-f7e33d1e8ac9"
      },
      "cell_type": "code",
      "source": [
        "# normalize\n",
        "training_images = training_images / 255.0\n",
        "test_images = test_images / 255.0\n",
        "\n",
        "model = tf.keras.models.Sequential([\n",
        "    tf.keras.layers.Flatten(),\n",
        "    tf.keras.layers.Dense(128, activation=tf.nn.relu),\n",
        "    tf.keras.layers.Dense(10, activation=tf.nn.softmax)\n",
        "])\n",
        "\n",
        "model.compile(optimizer='adam', loss='sparse_categorical_crossentropy', \n",
        "             metrics=['accuracy'])\n",
        "model.fit(training_images, training_labels, epochs=5)\n",
        "\n",
        "test_loss = model.evaluate(test_images, test_labels)"
      ],
      "execution_count": 8,
      "outputs": [
        {
          "output_type": "stream",
          "text": [
            "Epoch 1/5\n",
            "60000/60000 [==============================] - 7s 122us/sample - loss: 1.0701 - acc: 0.6672\n",
            "Epoch 2/5\n",
            "60000/60000 [==============================] - 6s 107us/sample - loss: 0.6353 - acc: 0.7706\n",
            "Epoch 3/5\n",
            "60000/60000 [==============================] - 6s 107us/sample - loss: 0.5612 - acc: 0.7981\n",
            "Epoch 4/5\n",
            "60000/60000 [==============================] - 6s 107us/sample - loss: 0.5189 - acc: 0.8167\n",
            "Epoch 5/5\n",
            "60000/60000 [==============================] - 7s 109us/sample - loss: 0.4919 - acc: 0.8267\n",
            "10000/10000 [==============================] - 0s 46us/sample - loss: 0.5047 - acc: 0.8196\n"
          ],
          "name": "stdout"
        }
      ]
    },
    {
      "metadata": {
        "id": "GtOONdVkAuCr",
        "colab_type": "text"
      },
      "cell_type": "markdown",
      "source": [
        "Let's try it again:"
      ]
    },
    {
      "metadata": {
        "id": "XpY88Zd4_scq",
        "colab_type": "code",
        "colab": {
          "base_uri": "https://localhost:8080/",
          "height": 204
        },
        "outputId": "345535ef-1794-4675-faad-06509b2d2aa6"
      },
      "cell_type": "code",
      "source": [
        "(training_images, training_labels), (test_images, test_labels) = mnist.load_data()\n",
        "training_images=training_images / 255.0\n",
        "test_images=test_images / 255.0\n",
        "model = tf.keras.models.Sequential([\n",
        "  tf.keras.layers.Flatten(),\n",
        "  tf.keras.layers.Dense(128, activation=tf.nn.relu),\n",
        "  tf.keras.layers.Dense(10, activation=tf.nn.softmax)\n",
        "])\n",
        "model.compile(optimizer='adam', loss='sparse_categorical_crossentropy', metrics=['accuracy'])\n",
        "model.fit(training_images, training_labels, epochs=5)\n",
        "\n",
        "test_loss = model.evaluate(test_images, test_labels)"
      ],
      "execution_count": 7,
      "outputs": [
        {
          "output_type": "stream",
          "text": [
            "Epoch 1/5\n",
            "60000/60000 [==============================] - 7s 109us/sample - loss: 0.5001 - acc: 0.8243\n",
            "Epoch 2/5\n",
            "60000/60000 [==============================] - 6s 106us/sample - loss: 0.3718 - acc: 0.8649\n",
            "Epoch 3/5\n",
            "60000/60000 [==============================] - 6s 106us/sample - loss: 0.3351 - acc: 0.8769\n",
            "Epoch 4/5\n",
            "60000/60000 [==============================] - 6s 106us/sample - loss: 0.3130 - acc: 0.8853\n",
            "Epoch 5/5\n",
            "60000/60000 [==============================] - 6s 106us/sample - loss: 0.2945 - acc: 0.8920\n",
            "10000/10000 [==============================] - 0s 44us/sample - loss: 0.3554 - acc: 0.8718\n"
          ],
          "name": "stdout"
        }
      ]
    },
    {
      "metadata": {
        "id": "EUnAnomQA9cW",
        "colab_type": "text"
      },
      "cell_type": "markdown",
      "source": [
        "## Convolutions\n",
        "\n",
        "The accuracy yielded by the original method is about 81-87%. It can be improved by emploing filter processing called Convolutions. An example of filter (kernel) processing is explained here: https://en.wikipedia.org/wiki/Kernel_(image_processing).\n",
        "\n",
        "In out case, Convolutuons will be a 3 by 3 pixel square that passes over the image. It will improve edge detection by apllying a matrix of multipliers. For edge detection such matrix will have 8 for the central pixels and -1 for all its neighbours. That means, that for each pixel in the image, we will multiply its value by 8 and then subtract the values of its neighbours. Once this is done, the new image will have its edges enhanced.\n",
        "\n",
        "Now, the DNN will be able to operate on an enhanced edge feature, which is supposed to improve performance.\n",
        "\n",
        "See the modified code that includes 4 new layers. First, a reshape is needed. The convolution layer expects a single 4D object instead of a list of 3D objects.\n",
        "\n",
        "We apply the first convolution that uses a 3 x 3 matrix. In the summary view you can see that the output data shape is now 26 by 26 instead of 28 by 28 pixel. The reason is that the 3 x 3 matrixs can be applied to all pixels except the ones in the outermost rows and columns - these do not have the complete set of neighbours. Because of this they are discarded.\n",
        "\n",
        "The pooling layer performs the following operation: it takes a 2 by 2 matrix across all the image pixels. In each matrix it look at the pixel with the highest value and keeps it, the other 3 pixels are discarded. Thus, the image is halved in width and height. In the output we have a picture twice as small as the input. \n",
        "\n",
        "If the dimensions of the original image are odd (e.g. 11 by 11), the pooling will round down and produce an image 5 by 5 pixel."
      ]
    },
    {
      "metadata": {
        "id": "tuu67-IdDGcs",
        "colab_type": "code",
        "colab": {
          "base_uri": "https://localhost:8080/",
          "height": 578
        },
        "outputId": "de6bc055-2752-4d57-cd75-e0e93c70f329"
      },
      "cell_type": "code",
      "source": [
        "import tensorflow as tf\n",
        "print(tf.__version__)\n",
        "mnist = tf.keras.datasets.fashion_mnist\n",
        "(training_images, training_labels), (test_images, test_labels) = mnist.load_data()\n",
        "training_images=training_images.reshape(60000, 28, 28, 1)\n",
        "training_images=training_images / 255.0\n",
        "test_images = test_images.reshape(10000, 28, 28, 1)\n",
        "test_images=test_images/255.0\n",
        "model = tf.keras.models.Sequential([\n",
        "  tf.keras.layers.Conv2D(64, (3,3), activation='relu', input_shape=(28, 28, 1)),\n",
        "  tf.keras.layers.MaxPooling2D(2, 2),\n",
        "  tf.keras.layers.Conv2D(64, (3,3), activation='relu'),\n",
        "  tf.keras.layers.MaxPooling2D(2,2),\n",
        "  tf.keras.layers.Flatten(),\n",
        "  tf.keras.layers.Dense(128, activation='relu'),\n",
        "  tf.keras.layers.Dense(10, activation='softmax')\n",
        "])\n",
        "model.compile(optimizer='adam', loss='sparse_categorical_crossentropy', metrics=['accuracy'])\n",
        "model.summary()\n",
        "model.fit(training_images, training_labels, epochs=5)\n",
        "test_loss = model.evaluate(test_images, test_labels)\n"
      ],
      "execution_count": 24,
      "outputs": [
        {
          "output_type": "stream",
          "text": [
            "1.13.1\n",
            "_________________________________________________________________\n",
            "Layer (type)                 Output Shape              Param #   \n",
            "=================================================================\n",
            "conv2d_5 (Conv2D)            (None, 26, 26, 64)        640       \n",
            "_________________________________________________________________\n",
            "max_pooling2d_5 (MaxPooling2 (None, 13, 13, 64)        0         \n",
            "_________________________________________________________________\n",
            "conv2d_6 (Conv2D)            (None, 11, 11, 64)        36928     \n",
            "_________________________________________________________________\n",
            "max_pooling2d_6 (MaxPooling2 (None, 5, 5, 64)          0         \n",
            "_________________________________________________________________\n",
            "flatten_7 (Flatten)          (None, 1600)              0         \n",
            "_________________________________________________________________\n",
            "dense_14 (Dense)             (None, 128)               204928    \n",
            "_________________________________________________________________\n",
            "dense_15 (Dense)             (None, 10)                1290      \n",
            "=================================================================\n",
            "Total params: 243,786\n",
            "Trainable params: 243,786\n",
            "Non-trainable params: 0\n",
            "_________________________________________________________________\n",
            "Epoch 1/5\n",
            "60000/60000 [==============================] - 112s 2ms/sample - loss: 0.4426 - acc: 0.8384\n",
            "Epoch 2/5\n",
            "60000/60000 [==============================] - 110s 2ms/sample - loss: 0.2975 - acc: 0.8911\n",
            "Epoch 3/5\n",
            "60000/60000 [==============================] - 110s 2ms/sample - loss: 0.2543 - acc: 0.9057\n",
            "Epoch 4/5\n",
            "60000/60000 [==============================] - 111s 2ms/sample - loss: 0.2205 - acc: 0.9173\n",
            "Epoch 5/5\n",
            "60000/60000 [==============================] - 110s 2ms/sample - loss: 0.1936 - acc: 0.9277\n",
            "10000/10000 [==============================] - 5s 485us/sample - loss: 0.2616 - acc: 0.9059\n"
          ],
          "name": "stdout"
        }
      ]
    },
    {
      "metadata": {
        "id": "j5AwpaFTKyQw",
        "colab_type": "text"
      },
      "cell_type": "markdown",
      "source": [
        "The training of this model takes much longer. But the accuracy is now almost 91%\n",
        "\n",
        "Let's see how the images look like during the convolution and pooling phases.\n",
        "\n",
        "# Visualization the Convolutions and Pooling.\n",
        "\n",
        "Let's see, what are the first 100 labels of the test label set:\n"
      ]
    },
    {
      "metadata": {
        "id": "-VkiU5UXMa2C",
        "colab_type": "code",
        "colab": {
          "base_uri": "https://localhost:8080/",
          "height": 68
        },
        "outputId": "59d9d828-edc4-49fc-aea2-b5ff9b0805d5"
      },
      "cell_type": "code",
      "source": [
        "print(test_labels[:100])"
      ],
      "execution_count": 26,
      "outputs": [
        {
          "output_type": "stream",
          "text": [
            "[9 2 1 1 6 1 4 6 5 7 4 5 7 3 4 1 2 4 8 0 2 5 7 9 1 4 6 0 9 3 8 8 3 3 8 0 7\n",
            " 5 7 9 6 1 3 7 6 7 2 1 2 2 4 4 5 8 2 2 8 4 8 0 7 7 8 5 1 1 2 3 9 8 7 0 2 6\n",
            " 2 3 1 2 8 4 1 8 5 9 5 0 3 2 0 6 5 3 6 7 1 8 0 1 4 2]\n"
          ],
          "name": "stdout"
        }
      ]
    },
    {
      "metadata": {
        "id": "mWjuT3YtMhE3",
        "colab_type": "text"
      },
      "cell_type": "markdown",
      "source": [
        "We can see, labels at indices 0, 23, and 28 are 9, that is \"shoe\". Let's see if applying convolutions enhances common features of a shoe image:\n"
      ]
    },
    {
      "metadata": {
        "id": "685vreFfM0Jg",
        "colab_type": "code",
        "colab": {
          "base_uri": "https://localhost:8080/",
          "height": 320
        },
        "outputId": "6c110fe4-4cc6-478a-d5d9-9868e5f9b947"
      },
      "cell_type": "code",
      "source": [
        "import matplotlib.pyplot as plt\n",
        "f, axarr = plt.subplots(3,4)\n",
        "FIRST_IMAGE=0\n",
        "SECOND_IMAGE=2\n",
        "THIRD_IMAGE=3\n",
        "CONVOLUTION_NUMBER=1\n",
        "\n",
        "print(test_labels[FIRST_IMAGE])\n",
        "print(test_labels[SECOND_IMAGE])\n",
        "print(test_labels[THIRD_IMAGE])\n",
        "\n",
        "from tensorflow.keras import models\n",
        "\n",
        "layer_outputs = [layer.output for layer in model.layers]\n",
        "activation_model = tf.keras.models.Model(inputs=model.input, outputs=layer_outputs)\n",
        "\n",
        "for x in range(0, 4):\n",
        "  f1 = activation_model.predict(test_images[FIRST_IMAGE].reshape(1, 28, 28, 1))[x]\n",
        "  axarr[0,x].imshow(f1[0, :, :, CONVOLUTION_NUMBER], cmap='inferno')\n",
        "  axarr[0,x].grid(False)\n",
        "  \n",
        "  f2 = activation_model.predict(test_images[SECOND_IMAGE].reshape(1, 28, 28, 1))[x]\n",
        "  axarr[1,x].imshow(f2[0, :, :, CONVOLUTION_NUMBER], cmap='inferno')\n",
        "  axarr[1,x].grid(False)\n",
        "  \n",
        "  f3 = activation_model.predict(test_images[THIRD_IMAGE].reshape(1, 28, 28, 1))[x]\n",
        "  axarr[2,x].imshow(f3[0, :, :, CONVOLUTION_NUMBER], cmap='inferno')\n",
        "  axarr[2,x].grid(False)\n",
        "  \n",
        "  \n",
        "  "
      ],
      "execution_count": 34,
      "outputs": [
        {
          "output_type": "stream",
          "text": [
            "9\n",
            "1\n",
            "1\n"
          ],
          "name": "stdout"
        },
        {
          "output_type": "display_data",
          "data": {
            "image/png": "[encoded data removed]",
            "text/plain": [
              "<Figure size 432x288 with 12 Axes>"
            ]
          },
          "metadata": {
            "tags": []
          }
        }
      ]
    },
    {
      "metadata": {
        "id": "Ynl_Ugx5OJBM",
        "colab_type": "code",
        "colab": {
          "base_uri": "https://localhost:8080/",
          "height": 269
        },
        "outputId": "145fc197-0ad6-4135-a0b6-98a76abbcb73"
      },
      "cell_type": "code",
      "source": [
        "import matplotlib.pyplot as plt\n",
        "f, axarr = plt.subplots(3,4)\n",
        "FIRST_IMAGE=0\n",
        "SECOND_IMAGE=7\n",
        "THIRD_IMAGE=26\n",
        "CONVOLUTION_NUMBER = 1\n",
        "from tensorflow.keras import models\n",
        "layer_outputs = [layer.output for layer in model.layers]\n",
        "activation_model = tf.keras.models.Model(inputs = model.input, outputs = layer_outputs)\n",
        "for x in range(0,4):\n",
        "  f1 = activation_model.predict(test_images[FIRST_IMAGE].reshape(1, 28, 28, 1))[x]\n",
        "  axarr[0,x].imshow(f1[0, : , :, CONVOLUTION_NUMBER], cmap='inferno')\n",
        "  axarr[0,x].grid(False)\n",
        "  f2 = activation_model.predict(test_images[SECOND_IMAGE].reshape(1, 28, 28, 1))[x]\n",
        "  axarr[1,x].imshow(f2[0, : , :, CONVOLUTION_NUMBER], cmap='inferno')\n",
        "  axarr[1,x].grid(False)\n",
        "  f3 = activation_model.predict(test_images[THIRD_IMAGE].reshape(1, 28, 28, 1))[x]\n",
        "  axarr[2,x].imshow(f3[0, : , :, CONVOLUTION_NUMBER], cmap='inferno')\n",
        "  axarr[2,x].grid(False)"
      ],
      "execution_count": 29,
      "outputs": [
        {
          "output_type": "display_data",
          "data": {
            "image/png": "[encoded data removed]",
            "text/plain": [
              "<Figure size 432x288 with 12 Axes>"
            ]
          },
          "metadata": {
            "tags": []
          }
        }
      ]
    },
    {
      "metadata": {
        "id": "wQqaqhduOR-J",
        "colab_type": "code",
        "colab": {
          "base_uri": "https://localhost:8080/",
          "height": 442
        },
        "outputId": "cc58f61e-f8fa-4c4a-9a41-9afb08f7fa46"
      },
      "cell_type": "code",
      "source": [
        "import tensorflow as tf\n",
        "print(tf.__version__)\n",
        "mnist = tf.keras.datasets.mnist\n",
        "(training_images, training_labels), (test_images, test_labels) = mnist.load_data()\n",
        "training_images=training_images.reshape(60000, 28, 28, 1)\n",
        "training_images=training_images / 255.0\n",
        "test_images = test_images.reshape(10000, 28, 28, 1)\n",
        "test_images=test_images/255.0\n",
        "model = tf.keras.models.Sequential([\n",
        "  tf.keras.layers.Conv2D(32, (3,3), activation='relu', input_shape=(28, 28, 1)),\n",
        "  tf.keras.layers.MaxPooling2D(2, 2),\n",
        "  tf.keras.layers.Flatten(),\n",
        "  tf.keras.layers.Dense(128, activation='relu'),\n",
        "  tf.keras.layers.Dense(10, activation='softmax')\n",
        "])\n",
        "model.compile(optimizer='adam', loss='sparse_categorical_crossentropy', metrics=['accuracy'])\n",
        "model.fit(training_images, training_labels, epochs=10)\n",
        "test_loss, test_acc = model.evaluate(test_images, test_labels)\n",
        "print(test_acc)"
      ],
      "execution_count": 35,
      "outputs": [
        {
          "output_type": "stream",
          "text": [
            "1.13.1\n",
            "Downloading data from https://storage.googleapis.com/tensorflow/tf-keras-datasets/mnist.npz\n",
            "11493376/11490434 [==============================] - 0s 0us/step\n",
            "Epoch 1/10\n",
            "60000/60000 [==============================] - 53s 888us/sample - loss: 0.1501 - acc: 0.9550\n",
            "Epoch 2/10\n",
            "60000/60000 [==============================] - 53s 887us/sample - loss: 0.0528 - acc: 0.9837\n",
            "Epoch 3/10\n",
            "60000/60000 [==============================] - 55s 910us/sample - loss: 0.0335 - acc: 0.9897\n",
            "Epoch 4/10\n",
            "60000/60000 [==============================] - 55s 919us/sample - loss: 0.0232 - acc: 0.9926\n",
            "Epoch 5/10\n",
            "60000/60000 [==============================] - 54s 899us/sample - loss: 0.0163 - acc: 0.9948\n",
            "Epoch 6/10\n",
            "60000/60000 [==============================] - 53s 884us/sample - loss: 0.0106 - acc: 0.9966\n",
            "Epoch 7/10\n",
            "60000/60000 [==============================] - 53s 884us/sample - loss: 0.0086 - acc: 0.9972\n",
            "Epoch 8/10\n",
            "60000/60000 [==============================] - 53s 888us/sample - loss: 0.0071 - acc: 0.9979\n",
            "Epoch 9/10\n",
            "60000/60000 [==============================] - 54s 892us/sample - loss: 0.0052 - acc: 0.9985\n",
            "Epoch 10/10\n",
            "60000/60000 [==============================] - 54s 897us/sample - loss: 0.0044 - acc: 0.9987\n",
            "10000/10000 [==============================] - 3s 263us/sample - loss: 0.0544 - acc: 0.9876\n",
            "0.9876\n"
          ],
          "name": "stdout"
        }
      ]
    },
    {
      "metadata": {
        "id": "ZAfKQCRIPNKT",
        "colab_type": "code",
        "colab": {}
      },
      "cell_type": "code",
      "source": [
        ""
      ],
      "execution_count": 0,
      "outputs": []
    }
  ]
}